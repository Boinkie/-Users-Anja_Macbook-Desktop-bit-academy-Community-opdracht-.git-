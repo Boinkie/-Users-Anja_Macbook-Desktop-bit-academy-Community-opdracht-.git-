{
 "cells": [
  {
   "cell_type": "markdown",
   "id": "239474d9",
   "metadata": {},
   "source": [
    "# De Community Challenge - week 49 - Anja Rentier\n",
    "\n",
    "In deze notebook gaan we een dataset van de Bit Academy onderzoeken. De opdracht is:\n",
    "\n",
    "### Jarvis Ratings\n",
    "\n",
    "Bit Academy wil zijn Jarvis opdrachten gaan verbeteren om te zorgen voor een betere leeromgeving. Op basis van de feedback van studenten gaan we kijken welke opdrachten wel en niet herzien moeten worden.\n",
    "\n",
    "Per gemaakte Jarvis opdracht kunnen studenten een rating geven. Als de gemiddelde rating van een bepaalde opdracht te laag is, dan wordt de opdracht herzien aan de hand van de feedback.\n",
    "\n",
    "Aan jou de taak om een programma te schrijven dat kijkt welke opdrachten moeten worden herzien. Gegeven is een Jarvis Ratings bestand. Hierin staan alle ratings van de opdrachten waar we naar gaan kijken. Open het bestand even in excel of in je editor om kijken hoe de data eruit ziet.\n",
    "\n",
    "Laat bij elke vraag zien hoe je aan je antwoord bent gekomen (zet comments bij je code).\n",
    "1. Hoeveel ratings zijn er totaal gegeven?\n",
    "2. Laat per opdracht zien hoeveel ratings de opdracht heeft en geef de namen van de opdrachten met een gemiddelde rating lager dan 3.\n",
    "3. Op 1 mei 2021 is de opdracht Flex met boxen herzien, heeft dat geleid tot betere ratings?\n",
    "\n",
    "Web traject: Maak een webpagina waarop je alle bovenstaande antwoorden overzichtelijk weergeeft.\n",
    "Data traject: Maak een grafiek waarin je laat zien wat de invloed was van de herzage.\n",
    "Upskill: Vrije keuze, kies 1 van beide trajecten, of combineer ze :)\n",
    "\n",
    "We beginnen deze opdracht met het importeren van de modules."
   ]
  },
  {
   "cell_type": "code",
   "execution_count": 8,
   "id": "823dde62",
   "metadata": {},
   "outputs": [
    {
     "data": {
      "text/html": [
       "<div>\n",
       "<style scoped>\n",
       "    .dataframe tbody tr th:only-of-type {\n",
       "        vertical-align: middle;\n",
       "    }\n",
       "\n",
       "    .dataframe tbody tr th {\n",
       "        vertical-align: top;\n",
       "    }\n",
       "\n",
       "    .dataframe thead th {\n",
       "        text-align: right;\n",
       "    }\n",
       "</style>\n",
       "<table border=\"1\" class=\"dataframe\">\n",
       "  <thead>\n",
       "    <tr style=\"text-align: right;\">\n",
       "      <th></th>\n",
       "      <th>exercise</th>\n",
       "      <th>first_name</th>\n",
       "      <th>last_name</th>\n",
       "      <th>rating</th>\n",
       "      <th>date</th>\n",
       "    </tr>\n",
       "  </thead>\n",
       "  <tbody>\n",
       "    <tr>\n",
       "      <th>0</th>\n",
       "      <td>Flex met boxen</td>\n",
       "      <td>Fergus</td>\n",
       "      <td>Crowther</td>\n",
       "      <td>5</td>\n",
       "      <td>2021-10-29</td>\n",
       "    </tr>\n",
       "    <tr>\n",
       "      <th>1</th>\n",
       "      <td>Commandline commands</td>\n",
       "      <td>Monica</td>\n",
       "      <td>Bartaloni</td>\n",
       "      <td>5</td>\n",
       "      <td>2021-01-05</td>\n",
       "    </tr>\n",
       "    <tr>\n",
       "      <th>2</th>\n",
       "      <td>Read that data</td>\n",
       "      <td>Prissie</td>\n",
       "      <td>Prangle</td>\n",
       "      <td>5</td>\n",
       "      <td>2021-10-26</td>\n",
       "    </tr>\n",
       "  </tbody>\n",
       "</table>\n",
       "</div>"
      ],
      "text/plain": [
       "               exercise first_name  last_name  rating        date\n",
       "0        Flex met boxen     Fergus   Crowther       5  2021-10-29\n",
       "1  Commandline commands     Monica  Bartaloni       5  2021-01-05\n",
       "2        Read that data    Prissie    Prangle       5  2021-10-26"
      ]
     },
     "execution_count": 8,
     "metadata": {},
     "output_type": "execute_result"
    }
   ],
   "source": [
    "import pandas as pd\n",
    "import numpy as np\n",
    "import matplotlib.pyplot as plt\n",
    "import seaborn as sns\n",
    "import csv\n",
    "from IPython.display import display, HTML, display_html\n",
    "\n",
    "df = pd.read_csv('ratings.csv')\n",
    "df.head(3)"
   ]
  },
  {
   "cell_type": "markdown",
   "id": "2c51d847",
   "metadata": {},
   "source": [
    "Om de eerste vraag te beantwoorden maken we gebruik van de `unique` functie van pandas. We willen weten hoeveel ratings er zijn gegeven. Algemeen gezien printen we het aantal rijen nog uit en tellen de NaN waardes in de dataframe."
   ]
  },
  {
   "cell_type": "code",
   "execution_count": 3,
   "id": "41854049",
   "metadata": {},
   "outputs": [
    {
     "name": "stdout",
     "output_type": "stream",
     "text": [
      "De database bevat 0 NaN-values.\n",
      "De database bevat 1000 rijen.\n",
      "De volgende ratings zijn afgegeven: 1, 2, 3, 4, 5\n"
     ]
    }
   ],
   "source": [
    "print(f'De database bevat {df.isna().sum().sum()} NaN-values.')\n",
    "print(f'De database bevat {len(df.index)} rijen.')\n",
    "rating = df.rating.unique()\n",
    "rating = sorted(rating, reverse=False)\n",
    "print(f'De volgende ratings zijn afgegeven: {str(rating)[1:-1]}')"
   ]
  },
  {
   "cell_type": "markdown",
   "id": "ef52a79c",
   "metadata": {},
   "source": [
    "Hoeveel ratings heeft een opdracht en welke opdrachten hebben een gemiddelde rating lager dan 3?\n",
    "\n",
    "Om deze vraag te beantwoorden sorteren we de dataframe op opdrachten en tellen hoeveel ratings er zijn.\n",
    "Daarna sorteren we de database op gemiddelde ratings en printen de opdrachten die een gemiddelde lager dan 3 hebben."
   ]
  },
  {
   "cell_type": "code",
   "execution_count": 4,
   "id": "8bb6501e",
   "metadata": {},
   "outputs": [
    {
     "data": {
      "text/html": [
       "<div>\n",
       "<style scoped>\n",
       "    .dataframe tbody tr th:only-of-type {\n",
       "        vertical-align: middle;\n",
       "    }\n",
       "\n",
       "    .dataframe tbody tr th {\n",
       "        vertical-align: top;\n",
       "    }\n",
       "\n",
       "    .dataframe thead th {\n",
       "        text-align: right;\n",
       "    }\n",
       "</style>\n",
       "<table border=\"1\" class=\"dataframe\">\n",
       "  <thead>\n",
       "    <tr style=\"text-align: right;\">\n",
       "      <th></th>\n",
       "      <th>exercise</th>\n",
       "      <th>rating</th>\n",
       "    </tr>\n",
       "  </thead>\n",
       "  <tbody>\n",
       "    <tr>\n",
       "      <th>0</th>\n",
       "      <td>Commandline commands</td>\n",
       "      <td>189</td>\n",
       "    </tr>\n",
       "    <tr>\n",
       "      <th>1</th>\n",
       "      <td>Flex met boxen</td>\n",
       "      <td>193</td>\n",
       "    </tr>\n",
       "    <tr>\n",
       "      <th>2</th>\n",
       "      <td>Hover kan je gaan</td>\n",
       "      <td>216</td>\n",
       "    </tr>\n",
       "    <tr>\n",
       "      <th>3</th>\n",
       "      <td>Maak een kattenwebsite</td>\n",
       "      <td>198</td>\n",
       "    </tr>\n",
       "    <tr>\n",
       "      <th>4</th>\n",
       "      <td>Read that data</td>\n",
       "      <td>204</td>\n",
       "    </tr>\n",
       "  </tbody>\n",
       "</table>\n",
       "</div>"
      ],
      "text/plain": [
       "                 exercise  rating\n",
       "0    Commandline commands     189\n",
       "1          Flex met boxen     193\n",
       "2       Hover kan je gaan     216\n",
       "3  Maak een kattenwebsite     198\n",
       "4          Read that data     204"
      ]
     },
     "execution_count": 4,
     "metadata": {},
     "output_type": "execute_result"
    },
    {
     "data": {
      "image/png": "[encoded data removed]",
      "text/plain": [
       "<Figure size 432x288 with 1 Axes>"
      ]
     },
     "metadata": {
      "needs_background": "light"
     },
     "output_type": "display_data"
    }
   ],
   "source": [
    "# groepeer op exercise en selecteer alleen kolom 'rating', tel die waardes. Daarna een index maken.\n",
    "grouped_exercise = df.groupby('exercise')['rating'].count().reset_index()\n",
    "\n",
    "# maak een barplot om de data inzichtelijk te maken\n",
    "sns.barplot(x='exercise', y='rating', data=grouped_exercise, palette = 'bright')\n",
    "plt.xticks(rotation=45, horizontalalignment=\"center\")\n",
    "plt.title(\"Aantal ratings afgegeven per opdracht\", fontsize=20)\n",
    "plt.xlabel(\"naam van de opdracht\", fontsize=15)\n",
    "plt.ylabel(\"aantal afgegeven ratings\", fontsize=15)\n",
    "\n",
    "grouped_exercise"
   ]
  },
  {
   "cell_type": "markdown",
   "id": "f64eb08d",
   "metadata": {},
   "source": [
    "In de grafiek hierboven is te zien hoeveel ratings de opdrachten hebben ontvangen. We gaan nu de gemiddelde rating per opdracht selecteren."
   ]
  },
  {
   "cell_type": "code",
   "execution_count": 5,
   "id": "fd664e91",
   "metadata": {},
   "outputs": [
    {
     "data": {
      "text/html": [
       "<div>\n",
       "<style scoped>\n",
       "    .dataframe tbody tr th:only-of-type {\n",
       "        vertical-align: middle;\n",
       "    }\n",
       "\n",
       "    .dataframe tbody tr th {\n",
       "        vertical-align: top;\n",
       "    }\n",
       "\n",
       "    .dataframe thead th {\n",
       "        text-align: right;\n",
       "    }\n",
       "</style>\n",
       "<table border=\"1\" class=\"dataframe\">\n",
       "  <thead>\n",
       "    <tr style=\"text-align: right;\">\n",
       "      <th></th>\n",
       "      <th>exercise</th>\n",
       "      <th>rating_mean</th>\n",
       "    </tr>\n",
       "  </thead>\n",
       "  <tbody>\n",
       "    <tr>\n",
       "      <th>4</th>\n",
       "      <td>Read that data</td>\n",
       "      <td>2.921569</td>\n",
       "    </tr>\n",
       "    <tr>\n",
       "      <th>3</th>\n",
       "      <td>Maak een kattenwebsite</td>\n",
       "      <td>2.989899</td>\n",
       "    </tr>\n",
       "    <tr>\n",
       "      <th>2</th>\n",
       "      <td>Hover kan je gaan</td>\n",
       "      <td>3.023148</td>\n",
       "    </tr>\n",
       "    <tr>\n",
       "      <th>0</th>\n",
       "      <td>Commandline commands</td>\n",
       "      <td>3.116402</td>\n",
       "    </tr>\n",
       "    <tr>\n",
       "      <th>1</th>\n",
       "      <td>Flex met boxen</td>\n",
       "      <td>3.704663</td>\n",
       "    </tr>\n",
       "  </tbody>\n",
       "</table>\n",
       "</div>"
      ],
      "text/plain": [
       "                 exercise  rating_mean\n",
       "4          Read that data     2.921569\n",
       "3  Maak een kattenwebsite     2.989899\n",
       "2       Hover kan je gaan     3.023148\n",
       "0    Commandline commands     3.116402\n",
       "1          Flex met boxen     3.704663"
      ]
     },
     "execution_count": 5,
     "metadata": {},
     "output_type": "execute_result"
    },
    {
     "data": {
      "image/png": "[encoded data removed]",
      "text/plain": [
       "<Figure size 432x288 with 1 Axes>"
      ]
     },
     "metadata": {
      "needs_background": "light"
     },
     "output_type": "display_data"
    }
   ],
   "source": [
    "# groepeer op exercise en bereken de gemiddelde waarde\n",
    "grouped_rating = df.groupby('exercise').agg({'rating': ['mean']})\n",
    "\n",
    "# hernoem de kolom rating en sorteer van laag naar hoog\n",
    "grouped_rating.columns = ['rating_mean']\n",
    "grouped_rating = grouped_rating.reset_index().sort_values('rating_mean')\n",
    "\n",
    "# maak een barplot om de data inzichtelijk te maken\n",
    "sns.barplot(x='exercise', y='rating_mean', data=grouped_rating, palette = 'bright')\n",
    "plt.xticks(rotation=45, horizontalalignment=\"center\")\n",
    "plt.title(\"Gemiddelde rating voor modules\", fontsize=20)\n",
    "plt.xlabel(\"exercise\", fontsize=15)\n",
    "plt.ylabel(\"rating\", fontsize=15)\n",
    "# een horizontale lijn ter verduidelijking van de 3 grens\n",
    "plt.axhline(y=3.0, color='r', linestyle='-')\n",
    "plt.ylim([2.5, 3.8])\n",
    "\n",
    "grouped_rating"
   ]
  },
  {
   "cell_type": "markdown",
   "id": "16f6be92",
   "metadata": {},
   "source": [
    "We zien in de barplot, dat de volgende modules een gemiddelde rating lager dan 3 hebben:\n",
    "\"Maak een kattenwebsite\" en \"Read the data\".\n",
    "\n",
    "Laatste vraagstuk; zijn er betere ratings, nadat de opdracht Flex met boxen is herzien? \n",
    "\n",
    "We gaan voor deze opdracht twee dataframes maken met data vanaf/voor 1 mei 2021 (dan is de opdracht herzien). Deze uitkomsten plotten we in 2 barplots."
   ]
  },
  {
   "cell_type": "code",
   "execution_count": 6,
   "id": "343dc96f",
   "metadata": {},
   "outputs": [
    {
     "data": {
      "text/html": [
       "<style type=\"text/css\">\n",
       "</style>\n",
       "<table id=\"T_12e6c_\" style='display:inline'>\n",
       "  <caption>Gemiddelde ratings voor 1 mei 2021</caption>\n",
       "  <thead>\n",
       "    <tr>\n",
       "      <th class=\"blank level0\" >&nbsp;</th>\n",
       "      <th class=\"col_heading level0 col0\" >exercise</th>\n",
       "      <th class=\"col_heading level0 col1\" >rating</th>\n",
       "    </tr>\n",
       "  </thead>\n",
       "  <tbody>\n",
       "    <tr>\n",
       "      <th id=\"T_12e6c_level0_row0\" class=\"row_heading level0 row0\" >0</th>\n",
       "      <td id=\"T_12e6c_row0_col0\" class=\"data row0 col0\" >Commandline commands</td>\n",
       "      <td id=\"T_12e6c_row0_col1\" class=\"data row0 col1\" >3.214286</td>\n",
       "    </tr>\n",
       "    <tr>\n",
       "      <th id=\"T_12e6c_level0_row1\" class=\"row_heading level0 row1\" >1</th>\n",
       "      <td id=\"T_12e6c_row1_col0\" class=\"data row1 col0\" >Flex met boxen</td>\n",
       "      <td id=\"T_12e6c_row1_col1\" class=\"data row1 col1\" >2.776471</td>\n",
       "    </tr>\n",
       "    <tr>\n",
       "      <th id=\"T_12e6c_level0_row2\" class=\"row_heading level0 row2\" >2</th>\n",
       "      <td id=\"T_12e6c_row2_col0\" class=\"data row2 col0\" >Hover kan je gaan</td>\n",
       "      <td id=\"T_12e6c_row2_col1\" class=\"data row2 col1\" >2.978495</td>\n",
       "    </tr>\n",
       "    <tr>\n",
       "      <th id=\"T_12e6c_level0_row3\" class=\"row_heading level0 row3\" >3</th>\n",
       "      <td id=\"T_12e6c_row3_col0\" class=\"data row3 col0\" >Maak een kattenwebsite</td>\n",
       "      <td id=\"T_12e6c_row3_col1\" class=\"data row3 col1\" >2.860465</td>\n",
       "    </tr>\n",
       "    <tr>\n",
       "      <th id=\"T_12e6c_level0_row4\" class=\"row_heading level0 row4\" >4</th>\n",
       "      <td id=\"T_12e6c_row4_col0\" class=\"data row4 col0\" >Read that data</td>\n",
       "      <td id=\"T_12e6c_row4_col1\" class=\"data row4 col1\" >2.973684</td>\n",
       "    </tr>\n",
       "  </tbody>\n",
       "</table>\n",
       "          <style type=\"text/css\">\n",
       "</style>\n",
       "<table id=\"T_3fe6e_\" style='display:inline'>\n",
       "  <caption>Gemiddelde ratings na 1 mei 2021</caption>\n",
       "  <thead>\n",
       "    <tr>\n",
       "      <th class=\"blank level0\" >&nbsp;</th>\n",
       "      <th class=\"col_heading level0 col0\" >exercise</th>\n",
       "      <th class=\"col_heading level0 col1\" >rating</th>\n",
       "    </tr>\n",
       "  </thead>\n",
       "  <tbody>\n",
       "    <tr>\n",
       "      <th id=\"T_3fe6e_level0_row0\" class=\"row_heading level0 row0\" >0</th>\n",
       "      <td id=\"T_3fe6e_row0_col0\" class=\"data row0 col0\" >Commandline commands</td>\n",
       "      <td id=\"T_3fe6e_row0_col1\" class=\"data row0 col1\" >3.058824</td>\n",
       "    </tr>\n",
       "    <tr>\n",
       "      <th id=\"T_3fe6e_level0_row1\" class=\"row_heading level0 row1\" >1</th>\n",
       "      <td id=\"T_3fe6e_row1_col0\" class=\"data row1 col0\" >Flex met boxen</td>\n",
       "      <td id=\"T_3fe6e_row1_col1\" class=\"data row1 col1\" >4.435185</td>\n",
       "    </tr>\n",
       "    <tr>\n",
       "      <th id=\"T_3fe6e_level0_row2\" class=\"row_heading level0 row2\" >2</th>\n",
       "      <td id=\"T_3fe6e_row2_col0\" class=\"data row2 col0\" >Hover kan je gaan</td>\n",
       "      <td id=\"T_3fe6e_row2_col1\" class=\"data row2 col1\" >3.056911</td>\n",
       "    </tr>\n",
       "    <tr>\n",
       "      <th id=\"T_3fe6e_level0_row3\" class=\"row_heading level0 row3\" >3</th>\n",
       "      <td id=\"T_3fe6e_row3_col0\" class=\"data row3 col0\" >Maak een kattenwebsite</td>\n",
       "      <td id=\"T_3fe6e_row3_col1\" class=\"data row3 col1\" >3.089286</td>\n",
       "    </tr>\n",
       "    <tr>\n",
       "      <th id=\"T_3fe6e_level0_row4\" class=\"row_heading level0 row4\" >4</th>\n",
       "      <td id=\"T_3fe6e_row4_col0\" class=\"data row4 col0\" >Read that data</td>\n",
       "      <td id=\"T_3fe6e_row4_col1\" class=\"data row4 col1\" >2.890625</td>\n",
       "    </tr>\n",
       "  </tbody>\n",
       "</table>\n"
      ]
     },
     "metadata": {},
     "output_type": "display_data"
    }
   ],
   "source": [
    "# het datum tijd formaat in de kolom 'date' op de juiste manier formatteren\n",
    "df['date'] = pd.to_datetime(df['date'], format='%Y-%m-%d')\n",
    "\n",
    "# dataframe op 1 mei selecteren\n",
    "start_date = \"2021-5-1\"\n",
    "after_start_date = df['date'] >= start_date\n",
    "before_start_date = df['date'] < start_date\n",
    "\n",
    "# creeer 2 dataframes geselecteerd op datum voor en na 1 mei 2021\n",
    "df_after = df.loc[after_start_date][['exercise', 'rating']]\n",
    "df_before = df.loc[before_start_date][['exercise', 'rating']]\n",
    "\n",
    "# groupeer dataframe op opdracht 'flex met boxen' en gemiddelde rating\n",
    "df_after = df_after.groupby('exercise')['rating'].mean().reset_index()\n",
    "df_before = df_before.groupby('exercise')['rating'].mean().reset_index()\n",
    "\n",
    "# we willen de dataframes naast elkaar zien\n",
    "df_before_styler = df_before.style.set_table_attributes(\"style='display:inline'\").set_caption('Gemiddelde ratings voor 1 mei 2021')\n",
    "df_after_styler = df_after.style.set_table_attributes(\"style='display:inline'\").set_caption('Gemiddelde ratings na 1 mei 2021')\n",
    "\n",
    "space = \"\\xa0\" * 10\n",
    "display_html(df_before_styler._repr_html_() + space + df_after_styler._repr_html_(), raw=True)\n"
   ]
  },
  {
   "cell_type": "markdown",
   "id": "531a2d4c",
   "metadata": {},
   "source": [
    "We maken 2 subplots van deze dataframes, om de gegevens inzichtelijk te maken en te kunnen vergelijken."
   ]
  },
  {
   "cell_type": "code",
   "execution_count": 7,
   "id": "e8a9d706",
   "metadata": {},
   "outputs": [
    {
     "data": {
      "text/plain": [
       "[Text(0.5, 1.0, 'Ratings na 1 mei 2021')]"
      ]
     },
     "execution_count": 7,
     "metadata": {},
     "output_type": "execute_result"
    },
    {
     "data": {
      "image/png": "[encoded data removed]",
      "text/plain": [
       "<Figure size 1080x576 with 2 Axes>"
      ]
     },
     "metadata": {
      "needs_background": "light"
     },
     "output_type": "display_data"
    }
   ],
   "source": [
    "fig, axs = plt.subplots(1,2, figsize=(15,8), sharey=True)\n",
    "\n",
    "# rotate ticklabels for all axes\n",
    "for ax in axs:\n",
    "    ax.tick_params(labelleft=True, labelrotation=45)\n",
    "    ax.xaxis.label.set_size(16)\n",
    "    ax.yaxis.label.set_size(16)\n",
    "\n",
    "# titel voor de gehele plot aangeven\n",
    "fig.suptitle('Gemiddelde rating van exercises', fontsize=20, color='black')\n",
    "plt.ylim([2.5, 4.8])\n",
    "\n",
    "# plot 1:\n",
    "sns.barplot(ax=axs[0], data=df_before, x='exercise', y='rating', palette = 'bright').set(title='Ratings voor 1 mei 2021')\n",
    "\n",
    "# plot2\n",
    "sns.barplot(ax=axs[1], data=df_after, x='exercise', y='rating', palette = 'bright').set(title='Ratings na 1 mei 2021')"
   ]
  },
  {
   "cell_type": "markdown",
   "id": "9c652b43",
   "metadata": {},
   "source": [
    "Het antwoord op het laatste vraagstuk is: de ratings voor de opdracht `Flex met boxen` zijn omhoog gegaan na de wijziging van de opdracht. Voor 1 mei is de gemiddelde rating 2,78 en na 1 mei is de gemiddelde rating 4,44.\n",
    "\n",
    "## Conclusie\n",
    "\n",
    "1. Er zijn 5 ratings afgegeven voor de oefeningen. Er zijn in totaal 1000 ratings afgegeven door studenten.\n",
    "2. In de geprinte dataframe is te zien hoeveel ratings de opdrachten afzonderlijk hebben. De opdrachten met een rating lager dan 3 zijn de opdrachten \"Maak een kattenwebsite\" en \"Read the data\".\n",
    "3. Het herzien van de opdracht Flex met boxen heeft geleid tot betere ratings."
   ]
  },
  {
   "cell_type": "code",
   "execution_count": null,
   "id": "689299e9",
   "metadata": {},
   "outputs": [],
   "source": []
  }
 ],
 "metadata": {
  "kernelspec": {
   "display_name": "Python 3 (ipykernel)",
   "language": "python",
   "name": "python3"
  },
  "language_info": {
   "codemirror_mode": {
    "name": "ipython",
    "version": 3
   },
   "file_extension": ".py",
   "mimetype": "text/x-python",
   "name": "python",
   "nbconvert_exporter": "python",
   "pygments_lexer": "ipython3",
   "version": "3.9.7"
  }
 },
 "nbformat": 4,
 "nbformat_minor": 5
}
