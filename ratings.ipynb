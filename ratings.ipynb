{
 "cells": [
  {
   "cell_type": "markdown",
   "id": "42c56957",
   "metadata": {},
   "source": [
    "# De Community Challenge - week 49\n",
    "\n",
    "In deze notebook gaan we een dataset van de Bit Academy onderzoeken. De opdracht is:\n",
    "\n",
    "### Jarvis Ratings\n",
    "\n",
    "Bit Academy wil zijn Jarvis opdrachten gaan verbeteren om te zorgen voor een betere leeromgeving. Op basis van de feedback van studenten gaan we kijken welke opdrachten wel en niet herzien moeten worden.\n",
    "\n",
    "Per gemaakte Jarvis opdracht kunnen studenten een rating geven. Als de gemiddelde rating van een bepaalde opdracht te laag is, dan wordt de opdracht herzien aan de hand van de feedback.\n",
    "\n",
    "Aan jou de taak om een programma te schrijven dat kijkt welke opdrachten moeten worden herzien. Gegeven is een Jarvis Ratings bestand. Hierin staan alle ratings van de opdrachten waar we naar gaan kijken. Open het bestand even in excel of in je editor om kijken hoe de data eruit ziet.\n",
    "\n",
    "Laat bij elke vraag zien hoe je aan je antwoord bent gekomen (zet comments bij je code).\n",
    "1. Hoeveel ratings zijn er totaal gegeven?\n",
    "2. Laat per opdracht zien hoeveel ratings de opdracht heeft en geef de namen van de opdrachten met een gemiddelde rating lager dan 3.\n",
    "3. Op 1 mei 2021 is de opdracht Flex met boxen herzien, heeft dat geleid tot betere ratings?\n",
    "\n",
    "Web traject: Maak een webpagina waarop je alle bovenstaande antwoorden overzichtelijk weergeeft.\n",
    "Data traject: Maak een grafiek waarin je laat zien wat de invloed was van de herzage.\n",
    "Upskill: Vrije keuze, kies 1 van beide trajecten, of combineer ze :)\n",
    "\n",
    "We beginnen deze opdracht met het importeren van de modules en het inlezen van het bestand.\n"
   ]
  },
  {
   "cell_type": "code",
   "execution_count": 53,
   "id": "50fdea38",
   "metadata": {},
   "outputs": [
    {
     "data": {
      "text/html": [
       "<div>\n",
       "<style scoped>\n",
       "    .dataframe tbody tr th:only-of-type {\n",
       "        vertical-align: middle;\n",
       "    }\n",
       "\n",
       "    .dataframe tbody tr th {\n",
       "        vertical-align: top;\n",
       "    }\n",
       "\n",
       "    .dataframe thead th {\n",
       "        text-align: right;\n",
       "    }\n",
       "</style>\n",
       "<table border=\"1\" class=\"dataframe\">\n",
       "  <thead>\n",
       "    <tr style=\"text-align: right;\">\n",
       "      <th></th>\n",
       "      <th>exercise</th>\n",
       "      <th>first_name</th>\n",
       "      <th>last_name</th>\n",
       "      <th>rating</th>\n",
       "      <th>date</th>\n",
       "    </tr>\n",
       "  </thead>\n",
       "  <tbody>\n",
       "    <tr>\n",
       "      <th>0</th>\n",
       "      <td>Flex met boxen</td>\n",
       "      <td>Fergus</td>\n",
       "      <td>Crowther</td>\n",
       "      <td>5</td>\n",
       "      <td>2021-10-29</td>\n",
       "    </tr>\n",
       "    <tr>\n",
       "      <th>1</th>\n",
       "      <td>Commandline commands</td>\n",
       "      <td>Monica</td>\n",
       "      <td>Bartaloni</td>\n",
       "      <td>5</td>\n",
       "      <td>2021-01-05</td>\n",
       "    </tr>\n",
       "    <tr>\n",
       "      <th>2</th>\n",
       "      <td>Read that data</td>\n",
       "      <td>Prissie</td>\n",
       "      <td>Prangle</td>\n",
       "      <td>5</td>\n",
       "      <td>2021-10-26</td>\n",
       "    </tr>\n",
       "  </tbody>\n",
       "</table>\n",
       "</div>"
      ],
      "text/plain": [
       "               exercise first_name  last_name  rating        date\n",
       "0        Flex met boxen     Fergus   Crowther       5  2021-10-29\n",
       "1  Commandline commands     Monica  Bartaloni       5  2021-01-05\n",
       "2        Read that data    Prissie    Prangle       5  2021-10-26"
      ]
     },
     "execution_count": 53,
     "metadata": {},
     "output_type": "execute_result"
    }
   ],
   "source": [
    "import pandas as pd\n",
    "import numpy as np\n",
    "import matplotlib.pyplot as plt\n",
    "import seaborn as sns\n",
    "import csv\n",
    "\n",
    "df = pd.read_csv('ratings.csv')\n",
    "df.head(3)"
   ]
  },
  {
   "cell_type": "markdown",
   "id": "4b23448f",
   "metadata": {},
   "source": [
    "Om de eerste vraag te beantwoorden maken we gebruik van de `unique` functie van pandas. We willen weten hoeveel ratings er zijn gegeven. Algemeen gezien printen we het aantal rijen nog uit en tellen de NaN waardes in de dataframe."
   ]
  },
  {
   "cell_type": "code",
   "execution_count": 44,
   "id": "abb41969",
   "metadata": {},
   "outputs": [
    {
     "name": "stdout",
     "output_type": "stream",
     "text": [
      "De database bevat 0 NaN-values.\n",
      "De database bevat 1000 rijen.\n",
      "De volgende ratings zijn afgegeven: 1, 2, 3, 4, 5\n"
     ]
    }
   ],
   "source": [
    "print(f'De database bevat {df.isna().sum().sum()} NaN-values.')\n",
    "print(f'De database bevat {len(df.index)} rijen.')\n",
    "rating = df.rating.unique()\n",
    "rating = sorted(rating, reverse=False)\n",
    "print(f'De volgende ratings zijn afgegeven: {str(rating)[1:-1]}')"
   ]
  },
  {
   "cell_type": "markdown",
   "id": "7d0cc7c8",
   "metadata": {},
   "source": [
    "We willen nu weten hoeveel ratings een opdracht heeft en willen de namen weten van de opdrachten met een gemiddelde rating lager dan 3. \n",
    "Om deze vraag te beantwoorden sorteren we de dataframe op opdrachten en tellen hoeveel ratings er zijn.\n",
    "Daarna sorteren we de database op gemiddelde ratings en printen de opdrachten die een gemiddelde lager dan 3 hebben."
   ]
  },
  {
   "cell_type": "code",
   "execution_count": 45,
   "id": "568e5b26",
   "metadata": {},
   "outputs": [
    {
     "data": {
      "text/plain": [
       "<AxesSubplot:xlabel='exercise'>"
      ]
     },
     "execution_count": 45,
     "metadata": {},
     "output_type": "execute_result"
    },
    {
     "data": {
      "image/png": "[encoded data removed]",
      "text/plain": [
       "<Figure size 576x432 with 1 Axes>"
      ]
     },
     "metadata": {
      "needs_background": "light"
     },
     "output_type": "display_data"
    }
   ],
   "source": [
    "#df_rating = df.groupby('exercise')\n",
    "# grouped_single = df.groupby('Team').agg({'Age': ['mean', 'min', 'max']})\n",
    "df_mean = df.groupby('exercise')['rating'].mean()\n",
    "\n",
    "df_mean.plot.bar(figsize=(8, 6))"
   ]
  },
  {
   "cell_type": "code",
   "execution_count": 48,
   "id": "1a4e09c6",
   "metadata": {},
   "outputs": [
    {
     "name": "stdout",
     "output_type": "stream",
     "text": [
      "                 exercise  rating_mean\n",
      "4          Read that data     2.921569\n",
      "3  Maak een kattenwebsite     2.989899\n",
      "2       Hover kan je gaan     3.023148\n",
      "0    Commandline commands     3.116402\n",
      "1          Flex met boxen     3.704663\n",
      "\n",
      "In een barplot ziet het er zo uit:\n"
     ]
    },
    {
     "data": {
      "text/plain": [
       "<AxesSubplot:>"
      ]
     },
     "execution_count": 48,
     "metadata": {},
     "output_type": "execute_result"
    },
    {
     "data": {
      "image/png": "[encoded data removed]",
      "text/plain": [
       "<Figure size 576x432 with 1 Axes>"
      ]
     },
     "metadata": {
      "needs_background": "light"
     },
     "output_type": "display_data"
    }
   ],
   "source": [
    "# groepeer op exercise en bereken de gemiddelde waarde\n",
    "grouped_rating = df.groupby('exercise').agg({'rating': ['mean']})\n",
    "\n",
    "# hernoem de kolom rating en sorteer van laag naar hoog\n",
    "grouped_rating.columns = ['rating_mean']\n",
    "grouped_rating = grouped_rating.reset_index().sort_values('rating_mean')\n",
    "\n",
    "print(grouped_rating)\n",
    "print('')\n",
    "print('In een barplot ziet het er zo uit:')\n",
    "\n",
    "grouped_rating.plot.bar(figsize=(8, 6))"
   ]
  },
  {
   "cell_type": "code",
   "execution_count": 76,
   "id": "171b7a1a",
   "metadata": {},
   "outputs": [
    {
     "name": "stdout",
     "output_type": "stream",
     "text": [
      "                 exercise  rating_mean\n",
      "4          Read that data     2.921569\n",
      "3  Maak een kattenwebsite     2.989899\n",
      "2       Hover kan je gaan     3.023148\n",
      "0    Commandline commands     3.116402\n",
      "1          Flex met boxen     3.704663\n",
      "\n",
      "In een barplot ziet het er zo uit:\n"
     ]
    },
    {
     "data": {
      "text/plain": [
       "(2.5, 3.8)"
      ]
     },
     "execution_count": 76,
     "metadata": {},
     "output_type": "execute_result"
    },
    {
     "data": {
      "image/png": "[encoded data removed]",
      "text/plain": [
       "<Figure size 432x288 with 1 Axes>"
      ]
     },
     "metadata": {
      "needs_background": "light"
     },
     "output_type": "display_data"
    }
   ],
   "source": [
    "# groepeer op exercise en bereken de gemiddelde waarde\n",
    "grouped_rating = df.groupby('exercise').agg({'rating': ['mean']})\n",
    "\n",
    "# hernoem de kolom rating en sorteer van laag naar hoog\n",
    "grouped_rating.columns = ['rating_mean']\n",
    "grouped_rating = grouped_rating.reset_index().sort_values('rating_mean')\n",
    "\n",
    "print(grouped_rating)\n",
    "print('')\n",
    "print('In een barplot ziet het er zo uit:')\n",
    "\n",
    "#grouped_rating.plot.bar(figsize=(8, 6))\n",
    "\n",
    "sns.barplot(x='exercise', y='rating_mean', data=grouped_rating, palette = 'magma',)\n",
    "plt.xticks(rotation=45, horizontalalignment=\"center\")\n",
    "plt.title(\"Gemiddelde rating voor modules\", fontsize=20)\n",
    "plt.xlabel(\"exercise\", fontsize=15)\n",
    "plt.ylabel(\"rating\", fontsize=15)\n",
    "plt.axhline(y=3.0, color='r', linestyle='-')\n",
    "plt.ylim([2.5, 3.8])"
   ]
  },
  {
   "cell_type": "markdown",
   "id": "41dfd425",
   "metadata": {},
   "source": [
    "We zien in het dataframe dat de modules \"Maak een kattenwebsite\" en \"Read the data\" een rating lager dan 3 hebben.\n",
    "\n",
    "Voor de laatste opdracht willen we onderzoeken of er betere ratings zijn nadat de opdracht Flex met boxen is herzien. We gaan voor deze opdracht twee dataframes maken met data vanaf/voor 1 mei 2021 (dan is de opdracht herzien). Deze uitkomsten plotten we in 2 barplots."
   ]
  },
  {
   "cell_type": "code",
   "execution_count": null,
   "id": "ede4fae7",
   "metadata": {},
   "outputs": [],
   "source": []
  },
  {
   "cell_type": "code",
   "execution_count": null,
   "id": "60617837",
   "metadata": {},
   "outputs": [],
   "source": []
  },
  {
   "cell_type": "code",
   "execution_count": null,
   "id": "99fe8371",
   "metadata": {},
   "outputs": [],
   "source": [
    "fig, axs = plt.subplots(2,1, figsize=(8,10), sharey=True)\n",
    "\n",
    "# rotate ticklabels for all axes\n",
    "for ax in axs:\n",
    "    ax.tick_params(labelrotation=45)\n",
    "\n",
    "# titel voor de gehele plot aangeven\n",
    "fig.suptitle('Pokemon stats by type', fontsize=20, color='black')\n",
    "\n",
    "# plot 1:\n",
    "sns.barplot(ax=axs[0], data=df1, x='type1', y='size')\n",
    "\n",
    "# titel aangeven voor plot 1\n",
    "axs[0].set(xlabel=None, ylabel='type 1')\n",
    "\n",
    "# plot2\n",
    "sns.barplot(ax=axs[1], data=df2, x='type2', y='size')\n",
    "axs[1].set(xlabel=None, ylabel='type 2')"
   ]
  }
 ],
 "metadata": {
  "kernelspec": {
   "display_name": "Python 3 (ipykernel)",
   "language": "python",
   "name": "python3"
  },
  "language_info": {
   "codemirror_mode": {
    "name": "ipython",
    "version": 3
   },
   "file_extension": ".py",
   "mimetype": "text/x-python",
   "name": "python",
   "nbconvert_exporter": "python",
   "pygments_lexer": "ipython3",
   "version": "3.9.7"
  }
 },
 "nbformat": 4,
 "nbformat_minor": 5
}
